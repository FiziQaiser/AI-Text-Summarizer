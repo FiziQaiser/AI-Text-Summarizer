{
 "cells": [
  {
   "cell_type": "code",
   "execution_count": 1,
   "metadata": {},
   "outputs": [
    {
     "name": "stderr",
     "output_type": "stream",
     "text": [
      "/opt/homebrew/anaconda3/envs/SciPy/lib/python3.11/site-packages/tqdm/auto.py:21: TqdmWarning: IProgress not found. Please update jupyter and ipywidgets. See https://ipywidgets.readthedocs.io/en/stable/user_install.html\n",
      "  from .autonotebook import tqdm as notebook_tqdm\n",
      "Downloading data: 100%|██████████| 234M/234M [00:20<00:00, 11.6MB/s] \n",
      "Downloading data: 100%|██████████| 233M/233M [00:19<00:00, 11.7MB/s] \n",
      "Downloading data: 100%|██████████| 232M/232M [00:20<00:00, 11.5MB/s] \n",
      "Downloading data: 100%|██████████| 233M/233M [00:20<00:00, 11.6MB/s] \n",
      "Downloading data: 100%|██████████| 105M/105M [00:09<00:00, 11.3MB/s] \n",
      "Downloading data: 100%|██████████| 58.6M/58.6M [00:05<00:00, 10.8MB/s]\n",
      "Downloading data: 100%|██████████| 58.5M/58.5M [00:05<00:00, 11.3MB/s]\n",
      "Generating train split: 100%|██████████| 119924/119924 [00:02<00:00, 43353.58 examples/s]\n",
      "Generating validation split: 100%|██████████| 6633/6633 [00:00<00:00, 35737.73 examples/s]\n",
      "Generating test split: 100%|██████████| 6658/6658 [00:00<00:00, 37687.13 examples/s]\n"
     ]
    }
   ],
   "source": [
    "from datasets import load_dataset\n",
    "\n",
    "ds = load_dataset(\"ccdv/pubmed-summarization\", \"document\")"
   ]
  },
  {
   "cell_type": "markdown",
   "metadata": {},
   "source": [
    "# Dataset Exploration"
   ]
  },
  {
   "cell_type": "code",
   "execution_count": 15,
   "metadata": {},
   "outputs": [
    {
     "name": "stdout",
     "output_type": "stream",
     "text": [
      "                                             article  \\\n",
      "0  a recent systematic analysis showed that in 20...   \n",
      "1  it occurs in more than 50% of patients and may...   \n",
      "2  tardive dystonia ( td ) , a rarer side effect ...   \n",
      "3  lepidoptera include agricultural pests that , ...   \n",
      "4  syncope is caused by transient diffuse cerebra...   \n",
      "\n",
      "                                            abstract  \n",
      "0  background : the present study was carried out...  \n",
      "1  backgroundanemia in patients with cancer who a...  \n",
      "2  tardive dystonia ( td ) is a serious side effe...  \n",
      "3  many lepidopteran insects are agricultural pes...  \n",
      "4  we present an unusual case of recurrent cough ...  \n"
     ]
    }
   ],
   "source": [
    "import pandas as pd\n",
    "# Convert to DataFrame\n",
    "df_train = pd.DataFrame(ds['train'])\n",
    "df_val = pd.DataFrame(ds['validation'])\n",
    "df_test = pd.DataFrame(ds['test'])\n",
    "\n",
    "# Display the first few rows of the training DataFrame\n",
    "print(df_train.head())"
   ]
  },
  {
   "cell_type": "code",
   "execution_count": 18,
   "metadata": {},
   "outputs": [
    {
     "data": {
      "text/html": [
       "<div>\n",
       "<style scoped>\n",
       "    .dataframe tbody tr th:only-of-type {\n",
       "        vertical-align: middle;\n",
       "    }\n",
       "\n",
       "    .dataframe tbody tr th {\n",
       "        vertical-align: top;\n",
       "    }\n",
       "\n",
       "    .dataframe thead th {\n",
       "        text-align: right;\n",
       "    }\n",
       "</style>\n",
       "<table border=\"1\" class=\"dataframe\">\n",
       "  <thead>\n",
       "    <tr style=\"text-align: right;\">\n",
       "      <th></th>\n",
       "      <th>article</th>\n",
       "      <th>abstract</th>\n",
       "    </tr>\n",
       "  </thead>\n",
       "  <tbody>\n",
       "    <tr>\n",
       "      <th>0</th>\n",
       "      <td>a recent systematic analysis showed that in 20...</td>\n",
       "      <td>background : the present study was carried out...</td>\n",
       "    </tr>\n",
       "    <tr>\n",
       "      <th>1</th>\n",
       "      <td>it occurs in more than 50% of patients and may...</td>\n",
       "      <td>backgroundanemia in patients with cancer who a...</td>\n",
       "    </tr>\n",
       "    <tr>\n",
       "      <th>2</th>\n",
       "      <td>tardive dystonia ( td ) , a rarer side effect ...</td>\n",
       "      <td>tardive dystonia ( td ) is a serious side effe...</td>\n",
       "    </tr>\n",
       "    <tr>\n",
       "      <th>3</th>\n",
       "      <td>lepidoptera include agricultural pests that , ...</td>\n",
       "      <td>many lepidopteran insects are agricultural pes...</td>\n",
       "    </tr>\n",
       "    <tr>\n",
       "      <th>4</th>\n",
       "      <td>syncope is caused by transient diffuse cerebra...</td>\n",
       "      <td>we present an unusual case of recurrent cough ...</td>\n",
       "    </tr>\n",
       "    <tr>\n",
       "      <th>...</th>\n",
       "      <td>...</td>\n",
       "      <td>...</td>\n",
       "    </tr>\n",
       "    <tr>\n",
       "      <th>119919</th>\n",
       "      <td>eukaryotic cells depend on vesicle - mediated ...</td>\n",
       "      <td>long - distance trafficking of membranous stru...</td>\n",
       "    </tr>\n",
       "    <tr>\n",
       "      <th>119920</th>\n",
       "      <td>as regards the selection criteria of the post ...</td>\n",
       "      <td>aims and objectives : to study the stress conc...</td>\n",
       "    </tr>\n",
       "    <tr>\n",
       "      <th>119921</th>\n",
       "      <td>in most of the peer review publications in the...</td>\n",
       "      <td>abstractbackgroundthe objective of this study ...</td>\n",
       "    </tr>\n",
       "    <tr>\n",
       "      <th>119922</th>\n",
       "      <td>the reveal registry is a longitudinal registry...</td>\n",
       "      <td>background : patients with pulmonary arterial ...</td>\n",
       "    </tr>\n",
       "    <tr>\n",
       "      <th>119923</th>\n",
       "      <td>cerebral palsy is a nonprogressive central ner...</td>\n",
       "      <td>objective . to determine \\n if gait waveform c...</td>\n",
       "    </tr>\n",
       "  </tbody>\n",
       "</table>\n",
       "<p>119924 rows × 2 columns</p>\n",
       "</div>"
      ],
      "text/plain": [
       "                                                  article  \\\n",
       "0       a recent systematic analysis showed that in 20...   \n",
       "1       it occurs in more than 50% of patients and may...   \n",
       "2       tardive dystonia ( td ) , a rarer side effect ...   \n",
       "3       lepidoptera include agricultural pests that , ...   \n",
       "4       syncope is caused by transient diffuse cerebra...   \n",
       "...                                                   ...   \n",
       "119919  eukaryotic cells depend on vesicle - mediated ...   \n",
       "119920  as regards the selection criteria of the post ...   \n",
       "119921  in most of the peer review publications in the...   \n",
       "119922  the reveal registry is a longitudinal registry...   \n",
       "119923  cerebral palsy is a nonprogressive central ner...   \n",
       "\n",
       "                                                 abstract  \n",
       "0       background : the present study was carried out...  \n",
       "1       backgroundanemia in patients with cancer who a...  \n",
       "2       tardive dystonia ( td ) is a serious side effe...  \n",
       "3       many lepidopteran insects are agricultural pes...  \n",
       "4       we present an unusual case of recurrent cough ...  \n",
       "...                                                   ...  \n",
       "119919  long - distance trafficking of membranous stru...  \n",
       "119920  aims and objectives : to study the stress conc...  \n",
       "119921  abstractbackgroundthe objective of this study ...  \n",
       "119922  background : patients with pulmonary arterial ...  \n",
       "119923  objective . to determine \\n if gait waveform c...  \n",
       "\n",
       "[119924 rows x 2 columns]"
      ]
     },
     "execution_count": 18,
     "metadata": {},
     "output_type": "execute_result"
    }
   ],
   "source": [
    "df_train"
   ]
  },
  {
   "cell_type": "code",
   "execution_count": 20,
   "metadata": {},
   "outputs": [
    {
     "name": "stdout",
     "output_type": "stream",
     "text": [
      "{'article': Value(dtype='string', id=None), 'abstract': Value(dtype='string', id=None)}\n"
     ]
    }
   ],
   "source": [
    "# Display the column names and data types\n",
    "print(ds['train'].features)"
   ]
  },
  {
   "cell_type": "code",
   "execution_count": 26,
   "metadata": {},
   "outputs": [
    {
     "name": "stdout",
     "output_type": "stream",
     "text": [
      "<class 'pandas.core.frame.DataFrame'>\n",
      "RangeIndex: 119924 entries, 0 to 119923\n",
      "Data columns (total 2 columns):\n",
      " #   Column    Non-Null Count   Dtype \n",
      "---  ------    --------------   ----- \n",
      " 0   article   119924 non-null  object\n",
      " 1   abstract  119924 non-null  object\n",
      "dtypes: object(2)\n",
      "memory usage: 1.8+ MB\n",
      "None\n",
      "       article                                           abstract\n",
      "count   119924                                             119924\n",
      "unique  116922                                             119832\n",
      "top             these are peer - reviewed poster - platform su...\n",
      "freq      2816                                                 15\n"
     ]
    }
   ],
   "source": [
    "# Display DataFrame info\n",
    "print(df_train.info())\n",
    "\n",
    "# Display DataFrame summary statistics\n",
    "print(df_train.describe())\n"
   ]
  },
  {
   "cell_type": "code",
   "execution_count": 24,
   "metadata": {},
   "outputs": [
    {
     "name": "stdout",
     "output_type": "stream",
     "text": [
      "Number of training examples: 119924\n",
      "Number of validation examples: 6633\n",
      "Number of test examples: 6658\n"
     ]
    }
   ],
   "source": [
    "# Display the number of examples in each split\n",
    "print(f\"Number of training examples: {len(df_train)}\")\n",
    "print(f\"Number of validation examples: {len(df_val)}\")\n",
    "print(f\"Number of test examples: {len(df_test)}\")\n"
   ]
  }
 ],
 "metadata": {
  "kernelspec": {
   "display_name": "SciPy",
   "language": "python",
   "name": "python3"
  },
  "language_info": {
   "codemirror_mode": {
    "name": "ipython",
    "version": 3
   },
   "file_extension": ".py",
   "mimetype": "text/x-python",
   "name": "python",
   "nbconvert_exporter": "python",
   "pygments_lexer": "ipython3",
   "version": "3.11.7"
  }
 },
 "nbformat": 4,
 "nbformat_minor": 2
}
